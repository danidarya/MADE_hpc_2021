{
 "cells": [
  {
   "cell_type": "markdown",
   "metadata": {},
   "source": [
    "50% На основании данных рейтинга top500 спрогнозировать  производительность компьютера №1 в 2025\n"
   ]
  },
  {
   "cell_type": "code",
   "execution_count": 1,
   "metadata": {},
   "outputs": [],
   "source": [
    "import pandas as pd\n",
    "import matplotlib.pyplot as plt\n",
    "import numpy as np\n",
    "from sklearn.linear_model import LinearRegression"
   ]
  },
  {
   "cell_type": "code",
   "execution_count": 2,
   "metadata": {},
   "outputs": [],
   "source": [
    "columns = ['date', 'sum', 'sum_str', 'top1', 'top1_str', 'top500', 'top500_str']\n",
    "data = pd.read_csv('development.csv',names=columns, header=None) "
   ]
  },
  {
   "cell_type": "code",
   "execution_count": 3,
   "metadata": {},
   "outputs": [
    {
     "data": {
      "text/html": [
       "<div>\n",
       "<style scoped>\n",
       "    .dataframe tbody tr th:only-of-type {\n",
       "        vertical-align: middle;\n",
       "    }\n",
       "\n",
       "    .dataframe tbody tr th {\n",
       "        vertical-align: top;\n",
       "    }\n",
       "\n",
       "    .dataframe thead th {\n",
       "        text-align: right;\n",
       "    }\n",
       "</style>\n",
       "<table border=\"1\" class=\"dataframe\">\n",
       "  <thead>\n",
       "    <tr style=\"text-align: right;\">\n",
       "      <th></th>\n",
       "      <th>date</th>\n",
       "      <th>sum</th>\n",
       "      <th>sum_str</th>\n",
       "      <th>top1</th>\n",
       "      <th>top1_str</th>\n",
       "      <th>top500</th>\n",
       "      <th>top500_str</th>\n",
       "    </tr>\n",
       "  </thead>\n",
       "  <tbody>\n",
       "    <tr>\n",
       "      <th>0</th>\n",
       "      <td>1993-5-1</td>\n",
       "      <td>1128.57</td>\n",
       "      <td>06/1993: Sum = 1.1 TFlop/s</td>\n",
       "      <td>59.7</td>\n",
       "      <td>06/1993: #1 = 59.7 GFlop/s</td>\n",
       "      <td>0.42</td>\n",
       "      <td>06/1993: #500 = 0.4 GFlop/s]</td>\n",
       "    </tr>\n",
       "    <tr>\n",
       "      <th>1</th>\n",
       "      <td>1993-10-1</td>\n",
       "      <td>1493.35</td>\n",
       "      <td>11/1993: Sum = 1.5 TFlop/s</td>\n",
       "      <td>124.0</td>\n",
       "      <td>11/1993: #1 = 124.0 GFlop/s</td>\n",
       "      <td>0.47</td>\n",
       "      <td>11/1993: #500 = 0.5 GFlop/s]</td>\n",
       "    </tr>\n",
       "    <tr>\n",
       "      <th>2</th>\n",
       "      <td>1994-5-1</td>\n",
       "      <td>2317.01</td>\n",
       "      <td>06/1994: Sum = 2.3 TFlop/s</td>\n",
       "      <td>143.4</td>\n",
       "      <td>06/1994: #1 = 143.4 GFlop/s</td>\n",
       "      <td>0.84</td>\n",
       "      <td>06/1994: #500 = 0.8 GFlop/s]</td>\n",
       "    </tr>\n",
       "    <tr>\n",
       "      <th>3</th>\n",
       "      <td>1994-10-1</td>\n",
       "      <td>2732.24</td>\n",
       "      <td>11/1994: Sum = 2.7 TFlop/s</td>\n",
       "      <td>170.0</td>\n",
       "      <td>11/1994: #1 = 170.0 GFlop/s</td>\n",
       "      <td>1.16</td>\n",
       "      <td>11/1994: #500 = 1.2 GFlop/s]</td>\n",
       "    </tr>\n",
       "    <tr>\n",
       "      <th>4</th>\n",
       "      <td>1995-5-1</td>\n",
       "      <td>3927.00</td>\n",
       "      <td>06/1995: Sum = 3.9 TFlop/s</td>\n",
       "      <td>170.0</td>\n",
       "      <td>06/1995: #1 = 170.0 GFlop/s</td>\n",
       "      <td>1.96</td>\n",
       "      <td>06/1995: #500 = 2.0 GFlop/s]</td>\n",
       "    </tr>\n",
       "  </tbody>\n",
       "</table>\n",
       "</div>"
      ],
      "text/plain": [
       "        date      sum                     sum_str   top1  \\\n",
       "0   1993-5-1  1128.57  06/1993: Sum = 1.1 TFlop/s   59.7   \n",
       "1  1993-10-1  1493.35  11/1993: Sum = 1.5 TFlop/s  124.0   \n",
       "2   1994-5-1  2317.01  06/1994: Sum = 2.3 TFlop/s  143.4   \n",
       "3  1994-10-1  2732.24  11/1994: Sum = 2.7 TFlop/s  170.0   \n",
       "4   1995-5-1  3927.00  06/1995: Sum = 3.9 TFlop/s  170.0   \n",
       "\n",
       "                      top1_str  top500                    top500_str  \n",
       "0   06/1993: #1 = 59.7 GFlop/s    0.42  06/1993: #500 = 0.4 GFlop/s]  \n",
       "1  11/1993: #1 = 124.0 GFlop/s    0.47  11/1993: #500 = 0.5 GFlop/s]  \n",
       "2  06/1994: #1 = 143.4 GFlop/s    0.84  06/1994: #500 = 0.8 GFlop/s]  \n",
       "3  11/1994: #1 = 170.0 GFlop/s    1.16  11/1994: #500 = 1.2 GFlop/s]  \n",
       "4  06/1995: #1 = 170.0 GFlop/s    1.96  06/1995: #500 = 2.0 GFlop/s]  "
      ]
     },
     "execution_count": 3,
     "metadata": {},
     "output_type": "execute_result"
    }
   ],
   "source": [
    "data.head()"
   ]
  },
  {
   "cell_type": "code",
   "execution_count": 4,
   "metadata": {},
   "outputs": [
    {
     "data": {
      "text/html": [
       "<div>\n",
       "<style scoped>\n",
       "    .dataframe tbody tr th:only-of-type {\n",
       "        vertical-align: middle;\n",
       "    }\n",
       "\n",
       "    .dataframe tbody tr th {\n",
       "        vertical-align: top;\n",
       "    }\n",
       "\n",
       "    .dataframe thead th {\n",
       "        text-align: right;\n",
       "    }\n",
       "</style>\n",
       "<table border=\"1\" class=\"dataframe\">\n",
       "  <thead>\n",
       "    <tr style=\"text-align: right;\">\n",
       "      <th></th>\n",
       "      <th>date</th>\n",
       "      <th>sum</th>\n",
       "      <th>sum_str</th>\n",
       "      <th>top1</th>\n",
       "      <th>top1_str</th>\n",
       "      <th>top500</th>\n",
       "      <th>top500_str</th>\n",
       "    </tr>\n",
       "  </thead>\n",
       "  <tbody>\n",
       "    <tr>\n",
       "      <th>52</th>\n",
       "      <td>2019-5-1</td>\n",
       "      <td>1.559575e+09</td>\n",
       "      <td>06/2019: Sum = 1.6 EFlop/s</td>\n",
       "      <td>148600000.0</td>\n",
       "      <td>06/2019: #1 = 148.6 PFlop/s</td>\n",
       "      <td>1021000.0</td>\n",
       "      <td>06/2019: #500 = 1.0 PFlop/s]</td>\n",
       "    </tr>\n",
       "    <tr>\n",
       "      <th>53</th>\n",
       "      <td>2019-10-1</td>\n",
       "      <td>1.646887e+09</td>\n",
       "      <td>11/2019: Sum = 1.6 EFlop/s</td>\n",
       "      <td>148600000.0</td>\n",
       "      <td>11/2019: #1 = 148.6 PFlop/s</td>\n",
       "      <td>1142000.0</td>\n",
       "      <td>11/2019: #500 = 1.1 PFlop/s]</td>\n",
       "    </tr>\n",
       "    <tr>\n",
       "      <th>54</th>\n",
       "      <td>2020-5-1</td>\n",
       "      <td>2.206134e+09</td>\n",
       "      <td>06/2020: Sum = 2.2 EFlop/s</td>\n",
       "      <td>415530000.0</td>\n",
       "      <td>06/2020: #1 = 415.5 PFlop/s</td>\n",
       "      <td>1228000.0</td>\n",
       "      <td>06/2020: #500 = 1.2 PFlop/s]</td>\n",
       "    </tr>\n",
       "    <tr>\n",
       "      <th>55</th>\n",
       "      <td>2020-10-1</td>\n",
       "      <td>2.428762e+09</td>\n",
       "      <td>11/2020: Sum = 2.4 EFlop/s</td>\n",
       "      <td>442010000.0</td>\n",
       "      <td>11/2020: #1 = 442.0 PFlop/s</td>\n",
       "      <td>1316840.0</td>\n",
       "      <td>11/2020: #500 = 1.3 PFlop/s]</td>\n",
       "    </tr>\n",
       "    <tr>\n",
       "      <th>56</th>\n",
       "      <td>2021-5-1</td>\n",
       "      <td>2.786059e+09</td>\n",
       "      <td>06/2021: Sum = 2.8 EFlop/s</td>\n",
       "      <td>442010000.0</td>\n",
       "      <td>06/2021: #1 = 442.0 PFlop/s</td>\n",
       "      <td>1511000.0</td>\n",
       "      <td>06/2021: #500 = 1.5 PFlop/s]</td>\n",
       "    </tr>\n",
       "  </tbody>\n",
       "</table>\n",
       "</div>"
      ],
      "text/plain": [
       "         date           sum                     sum_str         top1  \\\n",
       "52   2019-5-1  1.559575e+09  06/2019: Sum = 1.6 EFlop/s  148600000.0   \n",
       "53  2019-10-1  1.646887e+09  11/2019: Sum = 1.6 EFlop/s  148600000.0   \n",
       "54   2020-5-1  2.206134e+09  06/2020: Sum = 2.2 EFlop/s  415530000.0   \n",
       "55  2020-10-1  2.428762e+09  11/2020: Sum = 2.4 EFlop/s  442010000.0   \n",
       "56   2021-5-1  2.786059e+09  06/2021: Sum = 2.8 EFlop/s  442010000.0   \n",
       "\n",
       "                       top1_str     top500                    top500_str  \n",
       "52  06/2019: #1 = 148.6 PFlop/s  1021000.0  06/2019: #500 = 1.0 PFlop/s]  \n",
       "53  11/2019: #1 = 148.6 PFlop/s  1142000.0  11/2019: #500 = 1.1 PFlop/s]  \n",
       "54  06/2020: #1 = 415.5 PFlop/s  1228000.0  06/2020: #500 = 1.2 PFlop/s]  \n",
       "55  11/2020: #1 = 442.0 PFlop/s  1316840.0  11/2020: #500 = 1.3 PFlop/s]  \n",
       "56  06/2021: #1 = 442.0 PFlop/s  1511000.0  06/2021: #500 = 1.5 PFlop/s]  "
      ]
     },
     "execution_count": 4,
     "metadata": {},
     "output_type": "execute_result"
    }
   ],
   "source": [
    "data.tail()"
   ]
  },
  {
   "cell_type": "code",
   "execution_count": 5,
   "metadata": {},
   "outputs": [],
   "source": [
    "data['date'] = pd.to_datetime(data['date'])"
   ]
  },
  {
   "cell_type": "code",
   "execution_count": 6,
   "metadata": {},
   "outputs": [
    {
     "name": "stdout",
     "output_type": "stream",
     "text": [
      "<class 'pandas.core.frame.DataFrame'>\n",
      "RangeIndex: 57 entries, 0 to 56\n",
      "Data columns (total 7 columns):\n",
      " #   Column      Non-Null Count  Dtype         \n",
      "---  ------      --------------  -----         \n",
      " 0   date        57 non-null     datetime64[ns]\n",
      " 1   sum         57 non-null     float64       \n",
      " 2   sum_str     57 non-null     object        \n",
      " 3   top1        57 non-null     float64       \n",
      " 4   top1_str    57 non-null     object        \n",
      " 5   top500      57 non-null     float64       \n",
      " 6   top500_str  57 non-null     object        \n",
      "dtypes: datetime64[ns](1), float64(3), object(3)\n",
      "memory usage: 3.2+ KB\n"
     ]
    }
   ],
   "source": [
    "data.info()"
   ]
  },
  {
   "cell_type": "code",
   "execution_count": 7,
   "metadata": {},
   "outputs": [
    {
     "data": {
      "image/png": "[encoded data removed]",
      "text/plain": [
       "<Figure size 1008x432 with 2 Axes>"
      ]
     },
     "metadata": {
      "needs_background": "light"
     },
     "output_type": "display_data"
    }
   ],
   "source": [
    "fig,ax = plt.subplots(1,2,figsize=(14,6))\n",
    "ax[0].plot(data['date'],data['top1'])\n",
    "ax[0].title.set_text('Производительность топ1 компьютера, обычная шкала')\n",
    "ax[0].set_xlabel('date')\n",
    "ax[0].set_ylabel('TFlops')\n",
    "ax[1].plot(data['date'],np.log(data['top1']))\n",
    "ax[1].set_xlabel('date')\n",
    "ax[1].title.set_text('Производительности топ1 компьютера, логарифмическая шкала')"
   ]
  },
  {
   "cell_type": "markdown",
   "metadata": {},
   "source": [
    "Будем предсказывать логарифм производительности топ1 компьютера с помощью линейной регрессии"
   ]
  },
  {
   "cell_type": "code",
   "execution_count": 8,
   "metadata": {},
   "outputs": [],
   "source": [
    "model = LinearRegression()\n",
    "data_train = data.index.to_numpy().reshape(-1, 1)\n",
    "target = np.log(data['top1'])\n",
    "model.fit(data_train,target)\n",
    "\n",
    "\n",
    "data_pred = np.append(data.index.to_numpy(),np.arange(len(data_train),len(data_train)+(2025-2021)*2)).reshape(-1,1)\n",
    "predicted = model.predict(data_pred)\n",
    "predicted_flops = np.round(np.exp(predicted[-1]))"
   ]
  },
  {
   "cell_type": "code",
   "execution_count": 9,
   "metadata": {},
   "outputs": [
    {
     "data": {
      "text/plain": [
       "Text(0, 0.5, 'development,log scale')"
      ]
     },
     "execution_count": 9,
     "metadata": {},
     "output_type": "execute_result"
    },
    {
     "data": {
      "image/png": "[encoded data removed]",
      "text/plain": [
       "<Figure size 720x504 with 1 Axes>"
      ]
     },
     "metadata": {
      "needs_background": "light"
     },
     "output_type": "display_data"
    }
   ],
   "source": [
    "plt.figure(figsize=(10,7))\n",
    "plt.plot(data_train.reshape(data_train.shape[0]),np.log(data['top1']),label='true value')\n",
    "plt.plot(data_pred.reshape(data_pred.shape[0]),predicted,label='predicted value')\n",
    "plt.legend()\n",
    "plt.xlabel('time_interval')\n",
    "plt.ylabel('development,log scale')"
   ]
  },
  {
   "cell_type": "code",
   "execution_count": 10,
   "metadata": {},
   "outputs": [
    {
     "name": "stdout",
     "output_type": "stream",
     "text": [
      "Прогноз производительности топ1 компьютера к маю 2025 года: 12,816,272,347.0 гигафлопс или 12,816.0 петафлопс\n"
     ]
    }
   ],
   "source": [
    "print(f\"Прогноз производительности топ1 компьютера к маю 2025 года: {predicted_flops:,} гигафлопс или {np.round(predicted_flops*0.000001):,} петафлопс\")"
   ]
  },
  {
   "cell_type": "markdown",
   "metadata": {},
   "source": [
    "50% оцените какой процент всего производимого на Земле электричества потребляют все компьютеры из top500 (на основании открытых данных top500.org)\n"
   ]
  },
  {
   "cell_type": "code",
   "execution_count": 11,
   "metadata": {},
   "outputs": [],
   "source": [
    "top500 = pd.read_csv('TOP500_202106.csv',delimiter=';',decimal=',')"
   ]
  },
  {
   "cell_type": "code",
   "execution_count": 12,
   "metadata": {},
   "outputs": [
    {
     "name": "stdout",
     "output_type": "stream",
     "text": [
      "<class 'pandas.core.frame.DataFrame'>\n",
      "RangeIndex: 500 entries, 0 to 499\n",
      "Data columns (total 38 columns):\n",
      " #   Column                           Non-Null Count  Dtype  \n",
      "---  ------                           --------------  -----  \n",
      " 0   Rank                             500 non-null    int64  \n",
      " 1   Previous Rank                    442 non-null    float64\n",
      " 2   First Appearance                 500 non-null    int64  \n",
      " 3   First Rank                       500 non-null    int64  \n",
      " 4   Name                             322 non-null    object \n",
      " 5   Computer                         500 non-null    object \n",
      " 6   Site                             500 non-null    object \n",
      " 7   Manufacturer                     500 non-null    object \n",
      " 8   Country                          500 non-null    object \n",
      " 9   Year                             500 non-null    int64  \n",
      " 10  Segment                          500 non-null    object \n",
      " 11  Total Cores                      500 non-null    object \n",
      " 12  Accelerator/Co-Processor Cores   148 non-null    object \n",
      " 13  Rmax [TFlop/s]                   500 non-null    object \n",
      " 14  Rpeak [TFlop/s]                  500 non-null    object \n",
      " 15  Nmax                             496 non-null    object \n",
      " 16  Nhalf                            13 non-null     object \n",
      " 17  HPCG [TFlop/s]                   87 non-null     object \n",
      " 18  Power (kW)                       181 non-null    object \n",
      " 19  Power Source                     181 non-null    object \n",
      " 20  Power Efficiency [GFlops/Watts]  181 non-null    float64\n",
      " 21  Memory                           1 non-null      object \n",
      " 22  Architecture                     500 non-null    object \n",
      " 23  Processor                        500 non-null    object \n",
      " 24  Processor Technology             500 non-null    object \n",
      " 25  Processor Speed (MHz)            500 non-null    object \n",
      " 26  Operating System                 500 non-null    object \n",
      " 27  OS Family                        500 non-null    object \n",
      " 28  Accelerator/Co-Processor         500 non-null    object \n",
      " 29  Cores per Socket                 500 non-null    int64  \n",
      " 30  Processor Generation             500 non-null    object \n",
      " 31  System Model                     500 non-null    object \n",
      " 32  System Family                    500 non-null    object \n",
      " 33  Interconnect Family              500 non-null    object \n",
      " 34  Interconnect                     500 non-null    object \n",
      " 35  Continent                        500 non-null    object \n",
      " 36  Site ID                          500 non-null    object \n",
      " 37  System ID                        500 non-null    int64  \n",
      "dtypes: float64(2), int64(6), object(30)\n",
      "memory usage: 148.6+ KB\n"
     ]
    }
   ],
   "source": [
    "top500.info()"
   ]
  },
  {
   "cell_type": "code",
   "execution_count": 13,
   "metadata": {},
   "outputs": [],
   "source": [
    "top500['Power (kW)'] = top500['Power (kW)'].replace(r'\\s+', '',regex=True).replace(',', '.',regex=True)\n",
    "top500['Power (kW)'] = pd.to_numeric(top500['Power (kW)'] )"
   ]
  },
  {
   "cell_type": "markdown",
   "metadata": {},
   "source": [
    "Заполним пропущенные значения медианой"
   ]
  },
  {
   "cell_type": "code",
   "execution_count": 14,
   "metadata": {},
   "outputs": [],
   "source": [
    "top500['Power (kW)'] = top500['Power (kW)'].fillna(top500['Power (kW)'].median())"
   ]
  },
  {
   "cell_type": "code",
   "execution_count": 15,
   "metadata": {},
   "outputs": [
    {
     "name": "stdout",
     "output_type": "stream",
     "text": [
      " Потребление суперкомпьютеров из топ500 приблизительно составляет 644,855,080.0 Вт\n"
     ]
    }
   ],
   "source": [
    "top500_power = np.round(top500['Power (kW)'].sum()*1000)\n",
    "print(f\" Потребление суперкомпьютеров из топ500 приблизительно составляет {top500_power:,} Вт\")"
   ]
  },
  {
   "cell_type": "markdown",
   "metadata": {},
   "source": [
    "Данный о мировом потребление энергии взяты за 2020 год с сайта https://yearbook.enerdata.ru/electricity/world-electricity-production-statistics.html и составляют 26597 тераватт."
   ]
  },
  {
   "cell_type": "code",
   "execution_count": 16,
   "metadata": {},
   "outputs": [
    {
     "name": "stdout",
     "output_type": "stream",
     "text": [
      " Потребление суперкомпьютеров из топ500 составляет 0.0000024% от общемирового потребления энергии.\n"
     ]
    }
   ],
   "source": [
    "print(f\" Потребление суперкомпьютеров из топ500 составляет {top500_power*100/(26597*10**(12)):.7f}% от общемирового потребления энергии.\")"
   ]
  }
 ],
 "metadata": {
  "kernelspec": {
   "display_name": "Python 3",
   "language": "python",
   "name": "python3"
  },
  "language_info": {
   "codemirror_mode": {
    "name": "ipython",
    "version": 3
   },
   "file_extension": ".py",
   "mimetype": "text/x-python",
   "name": "python",
   "nbconvert_exporter": "python",
   "pygments_lexer": "ipython3",
   "version": "3.8.5"
  }
 },
 "nbformat": 4,
 "nbformat_minor": 4
}
